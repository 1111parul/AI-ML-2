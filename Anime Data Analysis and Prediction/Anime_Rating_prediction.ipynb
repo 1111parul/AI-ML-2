{
  "nbformat": 4,
  "nbformat_minor": 0,
  "metadata": {
    "colab": {
      "provenance": []
    },
    "kernelspec": {
      "name": "python3",
      "display_name": "Python 3"
    },
    "language_info": {
      "name": "python"
    }
  },
  "cells": [
    {
      "cell_type": "code",
      "execution_count": null,
      "metadata": {
        "id": "ydWE_vzMHs7T"
      },
      "outputs": [],
      "source": [
        "# importing the libraries\n",
        "import pandas as pd\n",
        "import numpy as np\n",
        "import seaborn as sns"
      ]
    },
    {
      "cell_type": "code",
      "source": [
        "data = pd.read_csv(\"../Dataset/All_Anime.csv\")\n",
        "data.head()"
      ],
      "metadata": {
        "id": "hO1L5c0UH9Ts"
      },
      "execution_count": null,
      "outputs": []
    },
    {
      "cell_type": "code",
      "source": [
        "# analyse the data"
      ],
      "metadata": {
        "id": "vCnYXsvtIBiA"
      },
      "execution_count": null,
      "outputs": []
    },
    {
      "cell_type": "code",
      "source": [
        "# check for missing values and handle them"
      ],
      "metadata": {
        "id": "95K5k-WlISfq"
      },
      "execution_count": null,
      "outputs": []
    },
    {
      "cell_type": "code",
      "source": [
        "# Handle \"year\" and \"duration\" columns for prediction"
      ],
      "metadata": {
        "id": "CW6OSjK6IXkb"
      },
      "execution_count": null,
      "outputs": []
    },
    {
      "cell_type": "code",
      "source": [
        "# use word2vec for \"story\" column\n",
        "from gensim.models import Word2Vec\n",
        "from nltk.tokenize import word_tokenize\n",
        "import nltk"
      ],
      "metadata": {
        "id": "wZK6078hIqfD"
      },
      "execution_count": null,
      "outputs": []
    },
    {
      "cell_type": "code",
      "source": [
        "# Visualise the rating pattern over the years using boxplot"
      ],
      "metadata": {
        "id": "CLcMnOyBKg8h"
      },
      "execution_count": null,
      "outputs": []
    },
    {
      "cell_type": "code",
      "source": [
        "# Analyse how the duration affects the rating"
      ],
      "metadata": {
        "id": "ShXFusdzJjWZ"
      },
      "execution_count": null,
      "outputs": []
    },
    {
      "cell_type": "code",
      "source": [
        "# Standardise numerical values and handle categorical columns (get dummies for the genre)"
      ],
      "metadata": {
        "id": "zvyGKmp4KMTN"
      },
      "execution_count": null,
      "outputs": []
    },
    {
      "cell_type": "code",
      "source": [
        "# implement linear regression model"
      ],
      "metadata": {
        "id": "eaxhEf7KKPsq"
      },
      "execution_count": null,
      "outputs": []
    },
    {
      "cell_type": "code",
      "source": [
        "# implement random forest regressor"
      ],
      "metadata": {
        "id": "9XwK4AsIKpLR"
      },
      "execution_count": null,
      "outputs": []
    },
    {
      "cell_type": "code",
      "source": [
        " # evaluate both models"
      ],
      "metadata": {
        "id": "YSIIETdEKtPk"
      },
      "execution_count": null,
      "outputs": []
    },
    {
      "cell_type": "code",
      "source": [
        "# compare the models"
      ],
      "metadata": {
        "id": "k2EUqudFKw5t"
      },
      "execution_count": null,
      "outputs": []
    }
  ]
}
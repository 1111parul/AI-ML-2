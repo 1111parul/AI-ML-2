{
  "nbformat": 4,
  "nbformat_minor": 0,
  "metadata": {
    "colab": {
      "provenance": []
    },
    "kernelspec": {
      "name": "python3",
      "display_name": "Python 3"
    },
    "language_info": {
      "name": "python"
    }
  },
  "cells": [
    {
      "cell_type": "code",
      "execution_count": null,
      "metadata": {
        "id": "97jhCVBdJV1u"
      },
      "outputs": [],
      "source": [
        "# import the libraries\n",
        "import pandas as pd\n",
        "import numpy as np\n",
        "import matplotlib.pyplot as plt\n",
        "from sklearn.model_selection import train_test_split\n",
        "from sklearn.preprocessing import scale\n",
        "from sklearn.svm import SVC\n",
        "from sklearn.metrics import plot_confusion_matrix\n",
        "from sklearn.preprocessing import StandardScaler, MinMaxScaler\n",
        "from sklearn.model_selection import cross_val_score\n",
        "from sklearn.metrics import confusion_matrix, precision_score, accuracy_score"
      ]
    },
    {
      "cell_type": "code",
      "source": [
        "# read the csv file\n",
        "data = pd.read_csv()"
      ],
      "metadata": {
        "id": "Lo8hinwSK0SV"
      },
      "execution_count": null,
      "outputs": []
    },
    {
      "cell_type": "code",
      "source": [
        "data.head()"
      ],
      "metadata": {
        "id": "bU1zobNgK7MO"
      },
      "execution_count": null,
      "outputs": []
    },
    {
      "cell_type": "code",
      "source": [
        "data.info()"
      ],
      "metadata": {
        "id": "82D8hp-sK9h2"
      },
      "execution_count": null,
      "outputs": []
    },
    {
      "cell_type": "code",
      "source": [
        "# handle missing values"
      ],
      "metadata": {
        "id": "dXZ2f-d8LEIG"
      },
      "execution_count": null,
      "outputs": []
    },
    {
      "cell_type": "code",
      "source": [
        "# check for outliers using box plot"
      ],
      "metadata": {
        "id": "WfJFdbpiLGQq"
      },
      "execution_count": null,
      "outputs": []
    },
    {
      "cell_type": "code",
      "source": [
        "# convert the categorical values into numerical values"
      ],
      "metadata": {
        "id": "Gnjt1ZXCLI1G"
      },
      "execution_count": null,
      "outputs": []
    },
    {
      "cell_type": "code",
      "source": [
        "# standardise the numerical values"
      ],
      "metadata": {
        "id": "mxRw5XCFLMyO"
      },
      "execution_count": null,
      "outputs": []
    },
    {
      "cell_type": "code",
      "source": [
        "# split the data in training and testing dataset"
      ],
      "metadata": {
        "id": "m3_Z8qH0LPTR"
      },
      "execution_count": null,
      "outputs": []
    },
    {
      "cell_type": "markdown",
      "source": [
        "# Model training"
      ],
      "metadata": {
        "id": "zh3Ev-JzLf4L"
      }
    },
    {
      "cell_type": "code",
      "source": [
        "# use svm to train the model on training dataset"
      ],
      "metadata": {
        "id": "rSRbyqoTLZNj"
      },
      "execution_count": null,
      "outputs": []
    },
    {
      "cell_type": "code",
      "source": [
        "# evaluate the SVM model"
      ],
      "metadata": {
        "id": "bmdoMqoNLwfO"
      },
      "execution_count": null,
      "outputs": []
    },
    {
      "cell_type": "code",
      "source": [
        "# use logistic regression"
      ],
      "metadata": {
        "id": "JZ3rGQLxLoJH"
      },
      "execution_count": null,
      "outputs": []
    },
    {
      "cell_type": "code",
      "source": [
        "# evaluate this model"
      ],
      "metadata": {
        "id": "xlfkbcbVL124"
      },
      "execution_count": null,
      "outputs": []
    },
    {
      "cell_type": "code",
      "source": [
        "# use random forest"
      ],
      "metadata": {
        "id": "gAhVM3-XLsb2"
      },
      "execution_count": null,
      "outputs": []
    },
    {
      "cell_type": "code",
      "source": [
        "# evaluate this model"
      ],
      "metadata": {
        "id": "fPMVKS5eL4N7"
      },
      "execution_count": null,
      "outputs": []
    },
    {
      "cell_type": "code",
      "source": [
        "# plot confusion matrix for all 3 models"
      ],
      "metadata": {
        "id": "7Z5DHCpnL6QL"
      },
      "execution_count": null,
      "outputs": []
    },
    {
      "cell_type": "markdown",
      "source": [
        " Give conclusion, which model is best fit for the data"
      ],
      "metadata": {
        "id": "GeAz1wYXL_o3"
      }
    }
  ]
}